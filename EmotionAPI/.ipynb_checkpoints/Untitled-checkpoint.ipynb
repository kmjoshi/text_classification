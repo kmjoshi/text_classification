{
 "cells": [
  {
   "cell_type": "code",
   "execution_count": 5,
   "metadata": {},
   "outputs": [],
   "source": [
    "import gradio\n",
    "\n",
    "\n",
    "def predict(s):\n",
    "    # s: single str object\n",
    "    return {'good': 1}\n",
    "\n"
   ]
  },
  {
   "cell_type": "code",
   "execution_count": 6,
   "metadata": {},
   "outputs": [
    {
     "name": "stdout",
     "output_type": "stream",
     "text": [
      "Validating samples: 1/5  [=....]\r",
      "5\n",
      "Validating samples: 2/5  [==...]\r",
      "426\n",
      "Validating samples: 3/5  [===..]\r",
      "29\n",
      "Validating samples: 4/5  [====.]\r",
      "26\n",
      "Validating samples: 5/5  [=====]\r",
      "19\n",
      "\n",
      "\n",
      "Validation passed successfully!\n"
     ]
    },
    {
     "ename": "NameError",
     "evalue": "name 'latest_pkg_version' is not defined",
     "output_type": "error",
     "traceback": [
      "\u001b[1;31m---------------------------------------------------------------------------\u001b[0m",
      "\u001b[1;31mNameError\u001b[0m                                 Traceback (most recent call last)",
      "\u001b[1;32m<ipython-input-6-7a3c29a83043>\u001b[0m in \u001b[0;36m<module>\u001b[1;34m\u001b[0m\n\u001b[0;32m      2\u001b[0m io = gradio.Interface(inputs=\"textbox\", outputs=\"label\",\n\u001b[0;32m      3\u001b[0m                       model_type=\"pyfunc\", model=predict)\n\u001b[1;32m----> 4\u001b[1;33m \u001b[0mio\u001b[0m\u001b[1;33m.\u001b[0m\u001b[0mlaunch\u001b[0m\u001b[1;33m(\u001b[0m\u001b[0minline\u001b[0m\u001b[1;33m=\u001b[0m\u001b[1;32mTrue\u001b[0m\u001b[1;33m,\u001b[0m \u001b[0mshare\u001b[0m\u001b[1;33m=\u001b[0m\u001b[1;32mFalse\u001b[0m\u001b[1;33m)\u001b[0m\u001b[1;33m\u001b[0m\u001b[1;33m\u001b[0m\u001b[0m\n\u001b[0m",
      "\u001b[1;32m~\\Anaconda3\\envs\\py36\\lib\\site-packages\\gradio\\interface.py\u001b[0m in \u001b[0;36mlaunch\u001b[1;34m(self, inline, inbrowser, share, validate)\u001b[0m\n\u001b[0;32m    264\u001b[0m         \u001b[0mlatest_pkg_version\u001b[0m \u001b[1;33m=\u001b[0m \u001b[0mcurrent_pkg_version\u001b[0m\u001b[1;33m\u001b[0m\u001b[1;33m\u001b[0m\u001b[0m\n\u001b[0;32m    265\u001b[0m         \u001b[1;31m# latest_pkg_version = requests.get(\u001b[0m\u001b[1;33m\u001b[0m\u001b[1;33m\u001b[0m\u001b[1;33m\u001b[0m\u001b[0m\n\u001b[1;32m--> 266\u001b[1;33m         \u001b[1;31m# url=PKG_VERSION_URL).json()[\"version\"]\u001b[0m\u001b[1;33m\u001b[0m\u001b[1;33m\u001b[0m\u001b[1;33m\u001b[0m\u001b[0m\n\u001b[0m\u001b[0;32m    267\u001b[0m         \u001b[1;32mif\u001b[0m \u001b[0mStrictVersion\u001b[0m\u001b[1;33m(\u001b[0m\u001b[0mlatest_pkg_version\u001b[0m\u001b[1;33m)\u001b[0m \u001b[1;33m>\u001b[0m \u001b[0mStrictVersion\u001b[0m\u001b[1;33m(\u001b[0m\u001b[0mcurrent_pkg_version\u001b[0m\u001b[1;33m)\u001b[0m\u001b[1;33m:\u001b[0m\u001b[1;33m\u001b[0m\u001b[1;33m\u001b[0m\u001b[0m\n\u001b[0;32m    268\u001b[0m             print(f\"IMPORTANT: You are using gradio version {current_pkg_version}, however version {latest_pkg_version} \"\n",
      "\u001b[1;31mNameError\u001b[0m: name 'latest_pkg_version' is not defined"
     ]
    }
   ],
   "source": [
    "\n",
    "io = gradio.Interface(inputs=\"textbox\", outputs=\"label\",\n",
    "                      model_type=\"pyfunc\", model=predict)\n",
    "io.launch(inline=True, share=False)\n"
   ]
  },
  {
   "cell_type": "code",
   "execution_count": null,
   "metadata": {},
   "outputs": [],
   "source": []
  }
 ],
 "metadata": {
  "kernelspec": {
   "display_name": "Python 3",
   "language": "python",
   "name": "python3"
  }
 },
 "nbformat": 4,
 "nbformat_minor": 2
}
